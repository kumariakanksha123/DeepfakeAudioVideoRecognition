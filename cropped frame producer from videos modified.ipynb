{
 "cells": [
  {
   "cell_type": "code",
   "execution_count": 39,
   "metadata": {},
   "outputs": [],
   "source": [
    "from glob import glob\n",
    "import os\n",
    "import cv2\n",
    "import dlib\n",
    "\n",
    "sec = 6\n",
    "\n",
    "detector = dlib.get_frontal_face_detector()\n",
    "\n",
    "videos = glob(\"videos2/*\")\n",
    "\n",
    "if not os.path.exists(\"result\"):\n",
    "    os.makedirs(\"result\")\n",
    "\n",
    "j = 0\n",
    "\n",
    "for video in videos:\n",
    "    cap = cv2.VideoCapture(video)\n",
    "\n",
    "    fps = cap.get(cv2.CAP_PROP_FPS)\n",
    "\n",
    "    fps = int(fps)\n",
    "\n",
    "    i = 1\n",
    "\n",
    "    while True:\n",
    "        ret, frame = cap.read()\n",
    "\n",
    "        if not ret:\n",
    "            break\n",
    "\n",
    "        if (i % (sec * fps)) == 0:\n",
    "            faces = detector(frame)\n",
    "\n",
    "            for face in faces:\n",
    "                x1 = face.left()\n",
    "                y1 = face.top()\n",
    "\n",
    "                x2 = face.right()\n",
    "                y2 = face.bottom()\n",
    "\n",
    "                extract_face = frame[y1:y2, x1:x2]\n",
    "\n",
    "                cv2.imwrite(f\"result/{j}.jpg\", extract_face)\n",
    "                j = j + 1\n",
    "\n",
    "        i = i + 1\n",
    "\n",
    "    cap.release()"
   ]
  },
  {
   "cell_type": "code",
   "execution_count": null,
   "metadata": {},
   "outputs": [],
   "source": []
  },
  {
   "cell_type": "code",
   "execution_count": null,
   "metadata": {},
   "outputs": [],
   "source": []
  }
 ],
 "metadata": {
  "kernelspec": {
   "display_name": "Python 3",
   "language": "python",
   "name": "python3"
  },
  "language_info": {
   "codemirror_mode": {
    "name": "ipython",
    "version": 3
   },
   "file_extension": ".py",
   "mimetype": "text/x-python",
   "name": "python",
   "nbconvert_exporter": "python",
   "pygments_lexer": "ipython3",
   "version": "3.6.9"
  }
 },
 "nbformat": 4,
 "nbformat_minor": 2
}
